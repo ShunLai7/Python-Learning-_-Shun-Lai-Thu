{
 "cells": [
  {
   "cell_type": "code",
   "execution_count": 2,
   "metadata": {},
   "outputs": [
    {
     "data": {
      "text/plain": [
       "'C:\\\\Users\\\\user'"
      ]
     },
     "execution_count": 2,
     "metadata": {},
     "output_type": "execute_result"
    }
   ],
   "source": [
    "pwd"
   ]
  },
  {
   "cell_type": "code",
   "execution_count": 3,
   "metadata": {},
   "outputs": [],
   "source": [
    "f = open('Section14 Advanced Python Modules.txt','w+')\n",
    "f.write('This is a test string.')\n",
    "f.close()"
   ]
  },
  {
   "cell_type": "code",
   "execution_count": 4,
   "metadata": {},
   "outputs": [],
   "source": [
    "import os"
   ]
  },
  {
   "cell_type": "code",
   "execution_count": 5,
   "metadata": {},
   "outputs": [
    {
     "data": {
      "text/plain": [
       "'C:\\\\Users\\\\user'"
      ]
     },
     "execution_count": 5,
     "metadata": {},
     "output_type": "execute_result"
    }
   ],
   "source": [
    "os.getcwd()"
   ]
  },
  {
   "cell_type": "code",
   "execution_count": 6,
   "metadata": {},
   "outputs": [
    {
     "data": {
      "text/plain": [
       "['.bash_history',\n",
       " '.codemix',\n",
       " '.codemix-store',\n",
       " '.codemix.properties',\n",
       " '.conda',\n",
       " '.condarc',\n",
       " '.config',\n",
       " '.eclipse',\n",
       " '.gitconfig',\n",
       " '.ipynb_checkpoints',\n",
       " '.ipython',\n",
       " '.jupyter',\n",
       " '.node_repl_history',\n",
       " '.p2',\n",
       " '.pgAdmin4.1057243102.addr',\n",
       " '.pgAdmin4.1057243102.log',\n",
       " '.pgAdmin4.2123502176.addr',\n",
       " '.pgAdmin4.2123502176.log',\n",
       " '.pgAdmin4.2496472524.addr',\n",
       " '.pgAdmin4.2496472524.log',\n",
       " '.pgAdmin4.startup.log',\n",
       " '.tooling',\n",
       " '.webclipse',\n",
       " 'anaconda3',\n",
       " 'AppData',\n",
       " 'Application Data',\n",
       " 'Contacts',\n",
       " 'Cookies',\n",
       " 'Desktop',\n",
       " 'Documents',\n",
       " 'Downloads',\n",
       " 'eclipse',\n",
       " 'Favorites',\n",
       " 'IntelGraphicsProfiles',\n",
       " 'Links',\n",
       " 'Local Settings',\n",
       " 'Music',\n",
       " 'My Documents',\n",
       " 'NetHood',\n",
       " 'NTUSER.DAT',\n",
       " 'ntuser.dat.LOG1',\n",
       " 'ntuser.dat.LOG2',\n",
       " 'NTUSER.DAT{cb56a6d7-0c49-11e6-a90e-c8aa52d4e633}.TM.blf',\n",
       " 'NTUSER.DAT{cb56a6d7-0c49-11e6-a90e-c8aa52d4e633}.TMContainer00000000000000000001.regtrans-ms',\n",
       " 'NTUSER.DAT{cb56a6d7-0c49-11e6-a90e-c8aa52d4e633}.TMContainer00000000000000000002.regtrans-ms',\n",
       " 'ntuser.ini',\n",
       " 'OneDrive',\n",
       " 'Pictures',\n",
       " 'postgresql_10.exe',\n",
       " 'postgresql_12.exe',\n",
       " 'postgresql_95.exe',\n",
       " 'PrintHood',\n",
       " 'Recent',\n",
       " 'Saved Games',\n",
       " 'Searches',\n",
       " 'Section14 Advanced Python Modules.ipynb',\n",
       " 'Section14 Advanced Python Modules.txt',\n",
       " 'Section14 Opening and Reading Files and Folders (Python OS Module).ipynb',\n",
       " 'SendTo',\n",
       " 'Start Menu',\n",
       " 'Templates',\n",
       " 'Videos']"
      ]
     },
     "execution_count": 6,
     "metadata": {},
     "output_type": "execute_result"
    }
   ],
   "source": [
    "os.listdir()"
   ]
  },
  {
   "cell_type": "code",
   "execution_count": 7,
   "metadata": {},
   "outputs": [],
   "source": [
    "import shutil"
   ]
  },
  {
   "cell_type": "code",
   "execution_count": 11,
   "metadata": {},
   "outputs": [
    {
     "data": {
      "text/plain": [
       "'C:\\\\Users\\\\isgm224\\\\practice.txt'"
      ]
     },
     "execution_count": 11,
     "metadata": {},
     "output_type": "execute_result"
    }
   ],
   "source": [
    "shutil.move('practice.txt','C:\\\\Users\\\\isgm224')"
   ]
  },
  {
   "cell_type": "code",
   "execution_count": 13,
   "metadata": {},
   "outputs": [],
   "source": [
    "import send2trash"
   ]
  },
  {
   "cell_type": "code",
   "execution_count": 14,
   "metadata": {},
   "outputs": [
    {
     "data": {
      "text/plain": [
       "['.bash_history',\n",
       " '.codemix',\n",
       " '.codemix-store',\n",
       " '.codemix.properties',\n",
       " '.conda',\n",
       " '.condarc',\n",
       " '.config',\n",
       " '.eclipse',\n",
       " '.gitconfig',\n",
       " '.ipynb_checkpoints',\n",
       " '.ipython',\n",
       " '.jupyter',\n",
       " '.node_repl_history',\n",
       " '.p2',\n",
       " '.pgAdmin4.1057243102.addr',\n",
       " '.pgAdmin4.1057243102.log',\n",
       " '.pgAdmin4.2123502176.addr',\n",
       " '.pgAdmin4.2123502176.log',\n",
       " '.pgAdmin4.2496472524.addr',\n",
       " '.pgAdmin4.2496472524.log',\n",
       " '.pgAdmin4.startup.log',\n",
       " '.tooling',\n",
       " '.webclipse',\n",
       " 'anaconda3',\n",
       " 'AppData',\n",
       " 'Application Data',\n",
       " 'Contacts',\n",
       " 'Cookies',\n",
       " 'Desktop',\n",
       " 'Documents',\n",
       " 'Downloads',\n",
       " 'eclipse',\n",
       " 'Favorites',\n",
       " 'IntelGraphicsProfiles',\n",
       " 'Links',\n",
       " 'Local Settings',\n",
       " 'Music',\n",
       " 'My Documents',\n",
       " 'NetHood',\n",
       " 'NTUSER.DAT',\n",
       " 'ntuser.dat.LOG1',\n",
       " 'ntuser.dat.LOG2',\n",
       " 'NTUSER.DAT{cb56a6d7-0c49-11e6-a90e-c8aa52d4e633}.TM.blf',\n",
       " 'NTUSER.DAT{cb56a6d7-0c49-11e6-a90e-c8aa52d4e633}.TMContainer00000000000000000001.regtrans-ms',\n",
       " 'NTUSER.DAT{cb56a6d7-0c49-11e6-a90e-c8aa52d4e633}.TMContainer00000000000000000002.regtrans-ms',\n",
       " 'ntuser.ini',\n",
       " 'OneDrive',\n",
       " 'Pictures',\n",
       " 'postgresql_10.exe',\n",
       " 'postgresql_12.exe',\n",
       " 'postgresql_95.exe',\n",
       " 'PrintHood',\n",
       " 'Recent',\n",
       " 'Saved Games',\n",
       " 'Searches',\n",
       " 'Section14 Advanced Python Modules.ipynb',\n",
       " 'Section14 Advanced Python Modules.txt',\n",
       " 'Section14 Opening and Reading Files and Folders (Python OS Module).ipynb',\n",
       " 'SendTo',\n",
       " 'Start Menu',\n",
       " 'Templates',\n",
       " 'Videos']"
      ]
     },
     "execution_count": 14,
     "metadata": {},
     "output_type": "execute_result"
    }
   ],
   "source": [
    "os.listdir()"
   ]
  },
  {
   "cell_type": "code",
   "execution_count": 15,
   "metadata": {},
   "outputs": [
    {
     "data": {
      "text/plain": [
       "'C:\\\\Users\\\\user\\\\practice.txt'"
      ]
     },
     "execution_count": 15,
     "metadata": {},
     "output_type": "execute_result"
    }
   ],
   "source": [
    "shutil.move('C:\\\\Users\\\\isgm224\\\\practice.txt',os.getcwd())"
   ]
  },
  {
   "cell_type": "code",
   "execution_count": 16,
   "metadata": {},
   "outputs": [],
   "source": [
    "send2trash.send2trash('practice.txt')"
   ]
  },
  {
   "cell_type": "code",
   "execution_count": 17,
   "metadata": {},
   "outputs": [
    {
     "data": {
      "text/plain": [
       "['.bash_history',\n",
       " '.codemix',\n",
       " '.codemix-store',\n",
       " '.codemix.properties',\n",
       " '.conda',\n",
       " '.condarc',\n",
       " '.config',\n",
       " '.eclipse',\n",
       " '.gitconfig',\n",
       " '.ipynb_checkpoints',\n",
       " '.ipython',\n",
       " '.jupyter',\n",
       " '.node_repl_history',\n",
       " '.p2',\n",
       " '.pgAdmin4.1057243102.addr',\n",
       " '.pgAdmin4.1057243102.log',\n",
       " '.pgAdmin4.2123502176.addr',\n",
       " '.pgAdmin4.2123502176.log',\n",
       " '.pgAdmin4.2496472524.addr',\n",
       " '.pgAdmin4.2496472524.log',\n",
       " '.pgAdmin4.startup.log',\n",
       " '.tooling',\n",
       " '.webclipse',\n",
       " 'anaconda3',\n",
       " 'AppData',\n",
       " 'Application Data',\n",
       " 'Contacts',\n",
       " 'Cookies',\n",
       " 'Desktop',\n",
       " 'Documents',\n",
       " 'Downloads',\n",
       " 'eclipse',\n",
       " 'Favorites',\n",
       " 'IntelGraphicsProfiles',\n",
       " 'Links',\n",
       " 'Local Settings',\n",
       " 'Music',\n",
       " 'My Documents',\n",
       " 'NetHood',\n",
       " 'NTUSER.DAT',\n",
       " 'ntuser.dat.LOG1',\n",
       " 'ntuser.dat.LOG2',\n",
       " 'NTUSER.DAT{cb56a6d7-0c49-11e6-a90e-c8aa52d4e633}.TM.blf',\n",
       " 'NTUSER.DAT{cb56a6d7-0c49-11e6-a90e-c8aa52d4e633}.TMContainer00000000000000000001.regtrans-ms',\n",
       " 'NTUSER.DAT{cb56a6d7-0c49-11e6-a90e-c8aa52d4e633}.TMContainer00000000000000000002.regtrans-ms',\n",
       " 'ntuser.ini',\n",
       " 'OneDrive',\n",
       " 'Pictures',\n",
       " 'postgresql_10.exe',\n",
       " 'postgresql_12.exe',\n",
       " 'postgresql_95.exe',\n",
       " 'PrintHood',\n",
       " 'Recent',\n",
       " 'Saved Games',\n",
       " 'Searches',\n",
       " 'Section14 Advanced Python Modules.ipynb',\n",
       " 'Section14 Advanced Python Modules.txt',\n",
       " 'Section14 Opening and Reading Files and Folders (Python OS Module).ipynb',\n",
       " 'SendTo',\n",
       " 'Start Menu',\n",
       " 'Templates',\n",
       " 'Videos']"
      ]
     },
     "execution_count": 17,
     "metadata": {},
     "output_type": "execute_result"
    }
   ],
   "source": [
    "os.listdir()"
   ]
  },
  {
   "cell_type": "code",
   "execution_count": 21,
   "metadata": {},
   "outputs": [],
   "source": [
    "file_path = 'C:\\\\Users\\\\user\\\\Example Top Level'"
   ]
  },
  {
   "cell_type": "code",
   "execution_count": 23,
   "metadata": {},
   "outputs": [
    {
     "name": "stdout",
     "output_type": "stream",
     "text": [
      "Currently looking at C:\\Users\\user\\Example Top Level\n",
      "\n",
      "\n",
      "The subfolders are: \n"
     ]
    }
   ],
   "source": [
    "for folder, sub_folders, files in os.walk(file_path):\n",
    "\n",
    "    print(f\"Currently looking at {folder}\")\n",
    "    print('\\n')\n",
    "    print(\"The subfolders are: \")\n",
    "    for sub_fold in sub_folders:\n",
    "        print(f\"Subfolder: {sub_fold}\")\n",
    "        print(\"\\n\")\n",
    "        print(\"The files are : \")\n",
    "        for f in files:\n",
    "            print(f\"Files : {f}\")\n",
    "            print('\\n')"
   ]
  },
  {
   "cell_type": "code",
   "execution_count": null,
   "metadata": {},
   "outputs": [],
   "source": []
  }
 ],
 "metadata": {
  "kernelspec": {
   "display_name": "Python 3",
   "language": "python",
   "name": "python3"
  },
  "language_info": {
   "codemirror_mode": {
    "name": "ipython",
    "version": 3
   },
   "file_extension": ".py",
   "mimetype": "text/x-python",
   "name": "python",
   "nbconvert_exporter": "python",
   "pygments_lexer": "ipython3",
   "version": "3.7.6"
  }
 },
 "nbformat": 4,
 "nbformat_minor": 4
}
